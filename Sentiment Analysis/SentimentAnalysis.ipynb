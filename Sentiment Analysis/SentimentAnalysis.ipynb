{
 "cells": [
  {
   "cell_type": "code",
   "execution_count": 11,
   "metadata": {},
   "outputs": [],
   "source": [
    "class Review:\n",
    "    def __init__(self, text,score):\n",
    "        self.text = text\n",
    "        self.score = score\n",
    "        self.sentiment = self.get_sentiment()\n",
    "        \n",
    "    def get_sentiment(self):\n",
    "        if self.score > 3:\n",
    "            return 'POSITIVE'\n",
    "        elif self.score ==3:\n",
    "            return 'NEUTRAL'\n",
    "        else:\n",
    "            return 'NEGATIVE'"
   ]
  },
  {
   "cell_type": "code",
   "execution_count": 19,
   "metadata": {},
   "outputs": [],
   "source": [
    "import json\n",
    "\n",
    "filename = 'Books_small.json'\n",
    "reviews = []\n",
    "with open (filename) as f:\n",
    "    for line in f:\n",
    "        x = json.loads(line) #loads data into variable x line by line\n",
    "        reviews.append(Review(x['reviewText'],x['overall']))      "
   ]
  },
  {
   "cell_type": "markdown",
   "metadata": {},
   "source": [
    "Machine learning models dont work with text data as input. So we need a means to convert text into a quantitative vector, ie Bag of Words"
   ]
  },
  {
   "cell_type": "markdown",
   "metadata": {},
   "source": [
    "Prep Data"
   ]
  },
  {
   "cell_type": "code",
   "execution_count": 30,
   "metadata": {},
   "outputs": [],
   "source": [
    "from sklearn.model_selection import train_test_split\n",
    "\n",
    "train, test = train_test_split(reviews, test_size = 0.2, random_state = 42)"
   ]
  },
  {
   "cell_type": "code",
   "execution_count": 31,
   "metadata": {},
   "outputs": [],
   "source": [
    "train_x = [x.text for x in train]\n",
    "train_y = [x.sentiment for x in train]\n",
    "test_x = [x.text for x in test]\n",
    "test_y = [x.sentiment for x in test]"
   ]
  },
  {
   "cell_type": "code",
   "execution_count": 44,
   "metadata": {},
   "outputs": [],
   "source": [
    "from sklearn.feature_extraction.text import CountVectorizer\n",
    "\n",
    "count_vect = CountVectorizer()\n",
    "train_x_vector = count_vect.fit_transform(train_x)\n",
    "test_x_vector = count_vect.transform(test_x)"
   ]
  },
  {
   "cell_type": "markdown",
   "metadata": {},
   "source": [
    "#### Support Vector Machines"
   ]
  },
  {
   "cell_type": "code",
   "execution_count": 47,
   "metadata": {},
   "outputs": [
    {
     "name": "stdout",
     "output_type": "stream",
     "text": [
      "An intriguing book, but I am ashamed to admit I sometimes did not fully comprehend what was said, particularly when Chesterton referred to other people (writers) that I am not knowledgeable of.  At any rate a good read.\n"
     ]
    },
    {
     "data": {
      "text/plain": [
       "0.83"
      ]
     },
     "execution_count": 47,
     "metadata": {},
     "output_type": "execute_result"
    }
   ],
   "source": [
    "from sklearn import svm\n",
    "\n",
    "clf_svm = svm.SVC(kernel = 'linear')\n",
    "\n",
    "clf_svm.fit(train_x_vector, train_y)\n",
    "\n",
    "#print(test_x[5])\n",
    "#clf_svm.predict(test_x_vector[5])\n",
    "clf_svm.score(test_x_vector, test_y)"
   ]
  },
  {
   "cell_type": "markdown",
   "metadata": {},
   "source": [
    "#### Decision Trees"
   ]
  },
  {
   "cell_type": "code",
   "execution_count": 49,
   "metadata": {},
   "outputs": [
    {
     "data": {
      "text/plain": [
       "0.765"
      ]
     },
     "execution_count": 49,
     "metadata": {},
     "output_type": "execute_result"
    }
   ],
   "source": [
    "from sklearn.tree import DecisionTreeClassifier\n",
    "\n",
    "clf_tree = DecisionTreeClassifier()\n",
    "clf_tree.fit(train_x_vector, train_y)\n",
    "#clf_tree.predict(test_x_vector[5])\n",
    "clf_tree.score(test_x_vector, test_y)"
   ]
  },
  {
   "cell_type": "markdown",
   "metadata": {},
   "source": [
    "#### Naive Bayes"
   ]
  },
  {
   "cell_type": "code",
   "execution_count": 61,
   "metadata": {},
   "outputs": [
    {
     "data": {
      "text/plain": [
       "0.79"
      ]
     },
     "execution_count": 61,
     "metadata": {},
     "output_type": "execute_result"
    }
   ],
   "source": [
    "from sklearn.naive_bayes import GaussianNB\n",
    "import numpy as np\n",
    "clf_nb = GaussianNB()\n",
    "clf_nb.fit(train_x_vector.toarray(), train_y)\n",
    "clf_nb.predict(test_x_vector[5].toarray())\n",
    "clf_nb.score(test_x_vector.toarray(), test_y)"
   ]
  },
  {
   "cell_type": "code",
   "execution_count": 79,
   "metadata": {},
   "outputs": [
    {
     "data": {
      "text/plain": [
       "0.87"
      ]
     },
     "execution_count": 79,
     "metadata": {},
     "output_type": "execute_result"
    }
   ],
   "source": [
    "from sklearn.naive_bayes import MultinomialNB\n",
    "x = np.array(train_x_vector)\n",
    "y = np.array(train_y)\n",
    "clf_multi = MultinomialNB()\n",
    "clf_multi.fit(train_x_vector,y)\n",
    "clf_multi.predict(test_x_vector[5].toarray())\n",
    "clf_multi.score(test_x_vector.toarray(), test_y)"
   ]
  },
  {
   "cell_type": "markdown",
   "metadata": {},
   "source": [
    "#### Logistic Regression"
   ]
  },
  {
   "cell_type": "code",
   "execution_count": 70,
   "metadata": {},
   "outputs": [
    {
     "data": {
      "text/plain": [
       "0.85"
      ]
     },
     "execution_count": 70,
     "metadata": {},
     "output_type": "execute_result"
    }
   ],
   "source": [
    "from sklearn.linear_model import LogisticRegression\n",
    "clf_log = LogisticRegression(multi_class = 'ovr')\n",
    "clf_log.fit(train_x_vector, train_y)\n",
    "clf_log.predict(test_x_vector[5])\n",
    "clf_log.score(test_x_vector, test_y)"
   ]
  },
  {
   "cell_type": "markdown",
   "metadata": {},
   "source": [
    "#### Evaluation using F1 score"
   ]
  },
  {
   "cell_type": "code",
   "execution_count": 81,
   "metadata": {},
   "outputs": [
    {
     "name": "stdout",
     "output_type": "stream",
     "text": [
      "[0.91428571 0.27777778 0.14285714]\n",
      "[0.86627907 0.12903226 0.16      ]\n",
      "[0.88700565 0.06451613 0.        ]\n",
      "[0.93048128 0.         0.        ]\n",
      "[0.92436975 0.27586207 0.14285714]\n"
     ]
    }
   ],
   "source": [
    "from sklearn.metrics import f1_score\n",
    "\n",
    "print(f1_score(test_y,clf_svm.predict(test_x_vector), average = None, labels = ['POSITIVE','NEUTRAL','NEGATIVE']))\n",
    "print(f1_score(test_y,clf_tree.predict(test_x_vector), average = None, labels = ['POSITIVE','NEUTRAL','NEGATIVE']))\n",
    "print(f1_score(test_y,clf_nb.predict(test_x_vector.toarray()), average = None, labels = ['POSITIVE','NEUTRAL','NEGATIVE']))\n",
    "print(f1_score(test_y,clf_multi.predict(test_x_vector), average = None, labels = ['POSITIVE','NEUTRAL','NEGATIVE']))\n",
    "print(f1_score(test_y,clf_log.predict(test_x_vector), average = None, labels = ['POSITIVE','NEUTRAL','NEGATIVE']))"
   ]
  },
  {
   "cell_type": "markdown",
   "metadata": {},
   "source": [
    "The lack of accuracy in predicting neutral or negative comments are actually due to a data problem, not a modelling problem. We have a lot more positive data than we do neutral or negative, so the model does not actually know, to a smiliar degree, how to identify neutral or negative comments."
   ]
  },
  {
   "cell_type": "markdown",
   "metadata": {},
   "source": [
    "The other flaw with bag of words approach is that non adjective words such as 'i', 'the' etc are given the same weights as sentiment-heavy words such as 'great', 'bad', etc."
   ]
  },
  {
   "cell_type": "markdown",
   "metadata": {},
   "source": [
    "#### TFIDVectorizer : words that occur more frequently carry less weight"
   ]
  },
  {
   "cell_type": "code",
   "execution_count": 88,
   "metadata": {},
   "outputs": [
    {
     "data": {
      "text/plain": [
       "LogisticRegression(multi_class='ovr')"
      ]
     },
     "execution_count": 88,
     "metadata": {},
     "output_type": "execute_result"
    }
   ],
   "source": [
    "from sklearn.feature_extraction.text import TfidfVectorizer\n",
    "\n",
    "count_vect = TfidfVectorizer()\n",
    "train_x_vector = count_vect.fit_transform(train_x)\n",
    "test_x_vector = count_vect.transform(test_x)\n",
    "\n",
    "#Linear SVM\n",
    "clf_svm = svm.SVC(kernel = 'linear')\n",
    "clf_svm.fit(train_x_vector, train_y)\n",
    "\n",
    "#Decision Tree\n",
    "clf_tree = DecisionTreeClassifier()\n",
    "clf_tree.fit(train_x_vector, train_y)\n",
    "\n",
    "#Naive Bayes\n",
    "clf_nb = GaussianNB()\n",
    "clf_nb.fit(train_x_vector.toarray(), train_y)\n",
    "\n",
    "#multinomial Naive Bayes\n",
    "x = np.array(train_x_vector)\n",
    "y = np.array(train_y)\n",
    "clf_multi = MultinomialNB()\n",
    "clf_multi.fit(train_x_vector,y)\n",
    "\n",
    "#Logistic Regression\n",
    "clf_log = LogisticRegression(multi_class = 'ovr')\n",
    "clf_log.fit(train_x_vector, train_y)"
   ]
  },
  {
   "cell_type": "code",
   "execution_count": 89,
   "metadata": {},
   "outputs": [
    {
     "name": "stdout",
     "output_type": "stream",
     "text": [
      "[0.93333333 0.         0.        ]\n",
      "[0.85630499 0.10526316 0.19047619]\n",
      "[0.88450704 0.06666667 0.        ]\n",
      "[0.93333333 0.         0.        ]\n",
      "[0.93333333 0.         0.        ]\n"
     ]
    }
   ],
   "source": [
    "print(f1_score(test_y,clf_svm.predict(test_x_vector), average = None, labels = ['POSITIVE','NEUTRAL','NEGATIVE']))\n",
    "print(f1_score(test_y,clf_tree.predict(test_x_vector), average = None, labels = ['POSITIVE','NEUTRAL','NEGATIVE']))\n",
    "print(f1_score(test_y,clf_nb.predict(test_x_vector.toarray()), average = None, labels = ['POSITIVE','NEUTRAL','NEGATIVE']))\n",
    "print(f1_score(test_y,clf_multi.predict(test_x_vector), average = None, labels = ['POSITIVE','NEUTRAL','NEGATIVE']))\n",
    "print(f1_score(test_y,clf_log.predict(test_x_vector), average = None, labels = ['POSITIVE','NEUTRAL','NEGATIVE']))"
   ]
  },
  {
   "cell_type": "code",
   "execution_count": null,
   "metadata": {},
   "outputs": [],
   "source": []
  }
 ],
 "metadata": {
  "kernelspec": {
   "display_name": "Python 3",
   "language": "python",
   "name": "python3"
  },
  "language_info": {
   "codemirror_mode": {
    "name": "ipython",
    "version": 3
   },
   "file_extension": ".py",
   "mimetype": "text/x-python",
   "name": "python",
   "nbconvert_exporter": "python",
   "pygments_lexer": "ipython3",
   "version": "3.8.3"
  }
 },
 "nbformat": 4,
 "nbformat_minor": 4
}
